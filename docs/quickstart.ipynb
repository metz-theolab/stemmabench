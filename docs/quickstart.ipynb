{
 "cells": [
  {
   "cell_type": "markdown",
   "id": "7791ac88",
   "metadata": {},
   "source": [
    "# Quickstart in interactive mode"
   ]
  },
  {
   "cell_type": "markdown",
   "id": "d6f45336",
   "metadata": {},
   "source": [
    "There are two ways to use *stemmabench*. The first one consists in using it using the command line (please refer to the README). It is also possible to use `stemmabench` entirely in memory.\n",
    "\n",
    "To use Stemma Bench in interactive mode, you need to:\n",
    "- Import the stemmabench library\n",
    "- Define the wanted configuration"
   ]
  },
  {
   "cell_type": "code",
   "execution_count": 1,
   "id": "303ffee3",
   "metadata": {},
   "outputs": [
    {
     "data": {
      "text/plain": [
       "1"
      ]
     },
     "execution_count": 1,
     "metadata": {},
     "output_type": "execute_result"
    }
   ],
   "source": [
    "import sys\n",
    "from stemmabench.bench.stemma_generator import Stemma\n",
    "from stemmabench.bench.config_parser import StemmaBenchConfig\n",
    "from loguru import logger\n",
    "# Set logging level to info\n",
    "logger.remove()\n",
    "logger.add(sys.stderr, level=\"INFO\")"
   ]
  },
  {
   "cell_type": "code",
   "execution_count": 2,
   "id": "2d96529b",
   "metadata": {},
   "outputs": [],
   "source": [
    "config = StemmaBenchConfig(**{\n",
    "    \"meta\": {\n",
    "      \"language\": \"en\"  \n",
    "    },\n",
    "    \"stemma\": {\n",
    "        \"depth\": 3,\n",
    "        \"width\": {\n",
    "            \"law\": \"Uniform\",\n",
    "            \"min\": 2,\n",
    "            \"max\": 4\n",
    "        },\n",
    "        \"missing_manuscripts\": {\n",
    "            \"law\": \"Bernouilli\",\n",
    "            \"rate\": 0\n",
    "        }\n",
    "    },\n",
    "    \"variants\": {\n",
    "    \"sentences\": {\n",
    "        \"duplicate\": {\n",
    "                    \"args\": {\n",
    "                                \"nbr_words\": 1\n",
    "                            },\n",
    "                            \"law\": \"Bernouilli\",\n",
    "                            \"rate\": 1\n",
    "                        }\n",
    "    },\n",
    "        \"words\": {\n",
    "                    \"synonym\": {\n",
    "                        \"law\": \"Bernouilli\",\n",
    "                        \"rate\": 0.05,\n",
    "                        \"args\": {}\n",
    "                    },\n",
    "                    \"mispell\": {\n",
    "                        \"law\": \"Bernouilli\",\n",
    "                        \"rate\": 0.001,\n",
    "                        \"args\": {}\n",
    "                    },\n",
    "                    \"omit\": {\n",
    "                        \"law\": \"Bernouilli\",\n",
    "                        \"rate\": 0.001,\n",
    "                        \"args\": {}\n",
    "                    }\n",
    "             }\n",
    "             }\n",
    "})"
   ]
  },
  {
   "cell_type": "markdown",
   "id": "695b538e",
   "metadata": {},
   "source": [
    "You then need to select the original text you want to generate a tradition from."
   ]
  },
  {
   "cell_type": "code",
   "execution_count": 3,
   "id": "a5729689",
   "metadata": {},
   "outputs": [],
   "source": [
    "DEMO_TEXT = \"LOVE bade me welcome; yet my soul drew back, Guilty of dust and sin. But quick-eyed Love, observing me grow slack, From my first entrance in, Drew nearer to me, sweetly questioning If I lack'd anything.\""
   ]
  },
  {
   "cell_type": "markdown",
   "id": "460b1a5a",
   "metadata": {},
   "source": [
    "Create a stemma object:"
   ]
  },
  {
   "cell_type": "code",
   "execution_count": 4,
   "id": "6b082d9f",
   "metadata": {},
   "outputs": [],
   "source": [
    "stemma = Stemma(original_text=DEMO_TEXT, config=config)"
   ]
  },
  {
   "cell_type": "markdown",
   "id": "0cd7734c",
   "metadata": {},
   "source": [
    "And then generate a tradition !"
   ]
  },
  {
   "cell_type": "code",
   "execution_count": 5,
   "id": "04dd3fb5",
   "metadata": {},
   "outputs": [
    {
     "data": {
      "text/plain": [
       "Tree({\n",
       "  \"LOVE bade me welcome; yet my soul drew back, Guilty of dust and sin. But quick-eyed Love, observing me grow slack, From my first entrance in, Drew nearer to me, sweetly questioning If I lack'd anything.\": [\n",
       "    \"Love bade me welcome yet yet my soul drew back off guilty of dust  sin. But quickeyed love observing maine grow slack from my first entrance in drew nearer to me sweetly inquiring if i lackd anything.\",\n",
       "    \"Love bade me welcome welcome yet my soul drew back guilty of dust and sin. But quickeyed love observant me grow slack from my first entrance in drew nearer nearer to me sweetly questioning if i lackd anything.\"\n",
       "  ],\n",
       "  \"Love bade me welcome yet yet my soul drew back off guilty of dust  sin. But quickeyed love observing maine grow slack from my first entrance in drew nearer to me sweetly inquiring if i lackd anything.\": [\n",
       "    \"Love bade bade me welcome yet yet my soul drew back off guilty of dust sin. But quickeyed love observing maine grow slack from my first entrance in drew nearer to me sweetly sweetly inquiring if i lackd anything.\",\n",
       "    \"Love bade me welcome yet yet my soul drew back off guilty guilty of dust sin. But quickeyed love observing maine grow slack from from my first entrance in drew nearer to me sweetly inquiring if i lackd anything.\"\n",
       "  ],\n",
       "  \"Love bade me welcome welcome yet my soul drew back guilty of dust and sin. But quickeyed love observant me grow slack from my first entrance in drew nearer nearer to me sweetly questioning if i lackd anything.\": [\n",
       "    \"Love bade me welcome receive yet my soul drew back guilty of dust dust and sin. But quickeyed love observing me me turn slack from my first entrance in drew nearer nearer to me sweetly questioning if i lackd anything.\",\n",
       "    \"Love bade me welcome welcome yet my soul drew back guilty  dust and and sin. But quickeyed love observant me grow slack from my my first entrance in drew nearer nearer to me sweetly questioning if i lackd anything.\",\n",
       "    \"Love bade me welcome welcome yet my soul drew back up back guilty of dust and sin. But quickeyed quickeyed love perceptive me grow slack from my first spellbind in drew nearer nearer to me sweetly questioning if i lackd anything.\"\n",
       "  ]\n",
       "})"
      ]
     },
     "execution_count": 5,
     "metadata": {},
     "output_type": "execute_result"
    }
   ],
   "source": [
    "stemma.generate()"
   ]
  },
  {
   "cell_type": "markdown",
   "id": "8d82129c",
   "metadata": {},
   "source": [
    "Each text can be accessed through its texts_lookup table, which can be used to get the tree stemma."
   ]
  },
  {
   "cell_type": "code",
   "execution_count": 6,
   "id": "3c80925d",
   "metadata": {},
   "outputs": [
    {
     "data": {
      "text/plain": [
       "{'1': \"LOVE bade me welcome; yet my soul drew back, Guilty of dust and sin. But quick-eyed Love, observing me grow slack, From my first entrance in, Drew nearer to me, sweetly questioning If I lack'd anything.\",\n",
       " '2': 'Love bade me welcome yet yet my soul drew back off guilty of dust  sin. But quickeyed love observing maine grow slack from my first entrance in drew nearer to me sweetly inquiring if i lackd anything.',\n",
       " '3': 'Love bade me welcome welcome yet my soul drew back guilty of dust and sin. But quickeyed love observant me grow slack from my first entrance in drew nearer nearer to me sweetly questioning if i lackd anything.',\n",
       " '4': 'Love bade bade me welcome yet yet my soul drew back off guilty of dust sin. But quickeyed love observing maine grow slack from my first entrance in drew nearer to me sweetly sweetly inquiring if i lackd anything.',\n",
       " '5': 'Love bade me welcome yet yet my soul drew back off guilty guilty of dust sin. But quickeyed love observing maine grow slack from from my first entrance in drew nearer to me sweetly inquiring if i lackd anything.',\n",
       " '6': 'Love bade me welcome receive yet my soul drew back guilty of dust dust and sin. But quickeyed love observing me me turn slack from my first entrance in drew nearer nearer to me sweetly questioning if i lackd anything.',\n",
       " '7': 'Love bade me welcome welcome yet my soul drew back guilty  dust and and sin. But quickeyed love observant me grow slack from my my first entrance in drew nearer nearer to me sweetly questioning if i lackd anything.',\n",
       " '8': 'Love bade me welcome welcome yet my soul drew back up back guilty of dust and sin. But quickeyed quickeyed love perceptive me grow slack from my first spellbind in drew nearer nearer to me sweetly questioning if i lackd anything.'}"
      ]
     },
     "execution_count": 6,
     "metadata": {},
     "output_type": "execute_result"
    }
   ],
   "source": [
    "stemma.texts_texts_lookup"
   ]
  },
  {
   "cell_type": "markdown",
   "id": "e07960b4",
   "metadata": {},
   "source": [
    "It is also possible to access the edges describing only the manuscript names and their family relation."
   ]
  },
  {
   "cell_type": "code",
   "execution_count": 7,
   "id": "58334fa8",
   "metadata": {},
   "outputs": [
    {
     "data": {
      "text/plain": [
       "[(1, 2), (1, 3), (2, 4), (2, 5), (3, 6), (3, 7), (3, 8)]"
      ]
     },
     "execution_count": 7,
     "metadata": {},
     "output_type": "execute_result"
    }
   ],
   "source": [
    "stemma.edges"
   ]
  }
 ],
 "metadata": {
  "kernelspec": {
   "display_name": "Python 3 (ipykernel)",
   "language": "python",
   "name": "python3"
  },
  "language_info": {
   "codemirror_mode": {
    "name": "ipython",
    "version": 3
   },
   "file_extension": ".py",
   "mimetype": "text/x-python",
   "name": "python",
   "nbconvert_exporter": "python",
   "pygments_lexer": "ipython3",
   "version": "3.11.0"
  }
 },
 "nbformat": 4,
 "nbformat_minor": 5
}
