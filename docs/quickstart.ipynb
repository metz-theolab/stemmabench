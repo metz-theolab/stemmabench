{
 "cells": [
  {
   "cell_type": "markdown",
   "id": "7791ac88",
   "metadata": {},
   "source": [
    "# Quickstart in interactive mode"
   ]
  },
  {
   "cell_type": "markdown",
   "id": "d6f45336",
   "metadata": {},
   "source": [
    "There are two ways to use *stemmabench*. The first one consists in using it using the command line (please refer to the README). It is also possible to use `stemmabench` entirely in memory.\n",
    "\n",
    "To use Stemma Bench in interactive mode, you need to:\n",
    "- Import the stemmabench library\n",
    "- Define the wanted configuration"
   ]
  },
  {
   "cell_type": "code",
   "execution_count": 1,
   "id": "303ffee3",
   "metadata": {},
   "outputs": [
    {
     "data": {
      "text/plain": [
       "1"
      ]
     },
     "execution_count": 1,
     "metadata": {},
     "output_type": "execute_result"
    }
   ],
   "source": [
    "import sys\n",
    "from stemmabench.stemma_generator import Stemma\n",
    "from stemmabench.config_parser import StemmaBenchConfig\n",
    "from loguru import logger\n",
    "# Set logging level to info\n",
    "logger.remove()\n",
    "logger.add(sys.stderr, level=\"INFO\")"
   ]
  },
  {
   "cell_type": "code",
   "execution_count": 2,
   "id": "2d96529b",
   "metadata": {},
   "outputs": [],
   "source": [
    "config = StemmaBenchConfig(**{\n",
    "    \"meta\": {\n",
    "      \"language\": \"en\"  \n",
    "    },\n",
    "    \"stemma\": {\n",
    "        \"depth\": 3,\n",
    "        \"width\": {\n",
    "            \"law\": \"Uniform\",\n",
    "            \"min\": 2,\n",
    "            \"max\": 4\n",
    "        },\n",
    "        \"missing_manuscripts\": {\n",
    "            \"law\": \"Bernouilli\",\n",
    "            \"rate\": 0\n",
    "        }\n",
    "    },\n",
    "    \"variants\": {\n",
    "    \"sentences\": {\n",
    "        \"duplicate\": {\n",
    "                    \"args\": {\n",
    "                                \"nbr_words\": 1\n",
    "                            },\n",
    "                            \"law\": \"Bernouilli\",\n",
    "                            \"rate\": 1\n",
    "                        }\n",
    "    },\n",
    "        \"words\": {\n",
    "                    \"synonym\": {\n",
    "                        \"law\": \"Bernouilli\",\n",
    "                        \"rate\": 0.05,\n",
    "                        \"args\": {}\n",
    "                    },\n",
    "                    \"mispell\": {\n",
    "                        \"law\": \"Bernouilli\",\n",
    "                        \"rate\": 0.001,\n",
    "                        \"args\": {}\n",
    "                    },\n",
    "                    \"omit\": {\n",
    "                        \"law\": \"Bernouilli\",\n",
    "                        \"rate\": 0.001,\n",
    "                        \"args\": {}\n",
    "                    }\n",
    "             }\n",
    "             }\n",
    "})"
   ]
  },
  {
   "cell_type": "markdown",
   "id": "695b538e",
   "metadata": {},
   "source": [
    "You then need to select the original text you want to generate a tradition from."
   ]
  },
  {
   "cell_type": "code",
   "execution_count": 3,
   "id": "a5729689",
   "metadata": {},
   "outputs": [],
   "source": [
    "DEMO_TEXT = \"LOVE bade me welcome; yet my soul drew back, Guilty of dust and sin. But quick-eyed Love, observing me grow slack, From my first entrance in, Drew nearer to me, sweetly questioning If I lack'd anything.\""
   ]
  },
  {
   "cell_type": "markdown",
   "id": "460b1a5a",
   "metadata": {},
   "source": [
    "Create a stemma object:"
   ]
  },
  {
   "cell_type": "code",
   "execution_count": 4,
   "id": "6b082d9f",
   "metadata": {},
   "outputs": [],
   "source": [
    "stemma = Stemma(original_text=DEMO_TEXT, config=config)"
   ]
  },
  {
   "cell_type": "markdown",
   "id": "0cd7734c",
   "metadata": {},
   "source": [
    "And then generate a tradition !"
   ]
  },
  {
   "cell_type": "code",
   "execution_count": 5,
   "id": "04dd3fb5",
   "metadata": {},
   "outputs": [
    {
     "data": {
      "text/plain": [
       "Tree({\n",
       "  \"LOVE bade me welcome; yet my soul drew back, Guilty of dust and sin. But quick-eyed Love, observing me grow slack, From my first entrance in, Drew nearer to me, sweetly questioning If I lack'd anything.\": {\n",
       "    \"Love bade me welcome yet my my soul drew back guilty of dust and sin. But quickeyed love observing me grow slack from my my first entrance in drew nearer to me sweetly questioning if i lackd anything.\": {\n",
       "      \"Love bade me welcome yet my my my soul drew back shamed of dust and sin. But quickeyed love observing me grow slow down from from my my first entrance in drew nearer to me sweetly questioning if i lackd anything.\": {\n",
       "        \"Love bade bade me welcome yet my my my soul drew back shamed of dust and sin. Simply quickeyed love observing me grow grow slow down from from my my first entrance in drew nigher to me sweetly questioning if i lackd anything.\": [\n",
       "          \"Love bade bade me welcome welcome yet my my my soul drew back shamed of dust and trespass. Simply quickeyed love observing me grow grow slow down from from my my first entrance in john drew nigher to me sweetly questioning if i i lackd anything.\",\n",
       "          \"Love bade bade me welcome yet yet my my my soul drew back shamed of dust and sin. Simply simply quickeyed love observing me grow turn slow down from from my my first spellbind in drew nearer to pine tree state sweetly questioning if i lackd anything.\"\n",
       "        ],\n",
       "        \"Love bade me welcome yet my my my soul drew back back shamed of dust and sin. But quickeyed love observing me grow slow down from from my my first entrance entrance in drew nearer to me sweetly questioning if i lackd anything.\": [\n",
       "          \"Love bade me welcome yet my my my soul soul drew back back shamed of dust and sin. But quickeyed love observing me grow slow down from from my my first entrance entrance entrance in drew nearer to me sweetly questioning if i lackd anything.\",\n",
       "          \"Love bade maine me welcome yet my my my soul drew back back shamed of dust and sin. But quickeyed love observing me grow slow down from from my my first entrance entrance in in drew nearer to me sweetly questioning if i lackd anything.\"\n",
       "        ],\n",
       "        \"Love bade me welcome welcome yet my my my soul drew back shamed of dust and sin. But quickeyed quickeyed love observing me grow slow down from from my my first entrance in drew nearer to me sweetly questioning if i lackd anything.\": [\n",
       "          \"Love bade me welcome welcome yet my my my soul soul drew back shamed of dust and trespass. But quickeyed quickeyed love observing me grow slow down from from my my first entrance in drew nearer to me sweetly questioning if if i lackd anything.\",\n",
       "          \"Love bade me welcome welcome yet yet my my my soul drew back shamed of dust and sin. But quickeyed quickeyed love observing me me grow slow down from from my my first spellbind in drew nearer to me sweetly questioning if i lackd anything.\",\n",
       "          \"Bon bade me welcome welcome welcome yet my my my soul drew back shamed of dust and sin. But quickeyed quickeyed love observing me grow slow drink down from from my my number one first entrance in drew nearer to pine tree state sweetly questioning if unit lackd anything.\"\n",
       "        ]\n",
       "      },\n",
       "      \"Love bade me welcome yet my my soul drew back off back guilty of dust and sin. But quickeyed lsve observing me grow slack from my my first entrance in drew nearer to me sweetly questioning if i lackd anything.\": {\n",
       "        \"Love bade me welcome yet my my soul soulfulness drew back slay back guilty of dust and sin. But quickeyed lsve observing me grow slack from my my first entrance in drew nearer to me sweetly questioning if i lackd anything.\": [\n",
       "          \"Love bade me welcome yet my my soulfulness soulfulness drew back slay back guilty of of dust and sin. But quickeyed lsve perceptive me grow slack from my my my number one entrance in drew nearer to me sweetly questioning if i lackd anything.\",\n",
       "          \"Love bade me welcome yet my my soul soulfulness drew back back slay back guilty of dust and sin. But quickeyed lsve observing me grow slack from my my first entrance in drew nearer to me sweetly questioning if if single lackd anything.\"\n",
       "        ],\n",
       "        \"Love bade me welcome yet my my soulfulness drew back off back guilty of dust dust and sin. But quickeyed lsve observing me grow slack from my my first first entrance in drew nearer to me sweetly questioning if i lackd anything.\": [\n",
       "          \"Love bade me welcome yet my my my soulfulness drew back off back guilty of dust dust and sin. But quickeyed lsve observant me me grow slack from my my first first entrance in drew nearer to me sweetly questioning if i lackd anything.\",\n",
       "          \"Love bade me welcome yet my my soulfulness drew back off back guilty of dust dust and and sin. But quickeyed lsve observing me grow slack from my my number 1 first entrance indium drew nearer to me sweetly questioning if i lackd anything.\",\n",
       "          \"Love bade me welcome yet yet my my soul drew back off back guilty of dust dust and sin. But quickeyed lsve observing me grow slack slack from my my first first entrance in drew nearer to me sweetly questioning if i lackd anything.\"\n",
       "        ],\n",
       "        \"Love bade me welcome welcome yet my my soul drew back off back shamefaced of dust and sin. But quickeyed lsve observing maine grow slack from my my first entrance in drew nearer to me sweetly sweetly questioning if i lackd anything.\": [\n",
       "          \"Have it off bade me welcome welcome yet my my my soul drew back off back shamefaced of dust and sin. But quickeyed lsve observing maine grow slacke from my my first entrance in drew nearer nearer to me sweetly sweetly questioning if i lackd anything.\",\n",
       "          \"Love bade me receive welcome yet my my soul drew back bump off back shamefaced of of dust and sin. But quickeyed lsve lsve observing maine grow slack from my my first entrance in drew nearer to me sweetly sweetly questioning if i lackd anything.\"\n",
       "        ]\n",
       "      },\n",
       "      \"Love love bade me welcome yet my my soul drew back guilty of dust and sin. But quickeyed love observing me grow slow from my my first first entrance in drew nearer to me sweetly questioning if i lackd anything.\": {\n",
       "        \"Love love bade me welcome yet my my soul drew back guilty of of dust and sin. But quickeyed love observing me grow slow from my my first first entrance in drew nigher no me me sweetly questioning if i lackd anything.\": [\n",
       "          \"Love love bade me welcome yet my my soul soul drew back guilty of of dust and sin. But quickeyed love observing me grow slow from my my first first spellbind in drew nigher no me me sweetly questioning if i i lackd anything.\",\n",
       "          \"Roll in the hay love bade me welcome so far my my my soul drew back guilty of of dust and sin. But but quickeyed love observing me grow slow from my my first first entrance in drew nigher no me me sweetly questioning if i lackd anything.\"\n",
       "        ],\n",
       "        \"Love love bade me welcome yet my my soul drew back guilty guilty of dust and sin. But quickeyed quickeyed love observing me grow slow from my my first first entrance in drew nigher to me sweetly questioning if i lackd anything.\": [\n",
       "          \"Jazz love bade me receive yet my my soul drew back hangdog guilty guilty of dust and sin. But quickeyed quickeyed quickeyed love observing me grow slow from my my first first spellbind in drew nigher to me sweetly questioning if i lackd anything.\",\n",
       "          \"Love love bade me welcome yet my my soul soul john drew back guilty guilty of dust and sin. But quickeyed quickeyed love observing me grow slow from my my first first entrance in drew drew nigher to me sweetly questioning if i lackd anything.\"\n",
       "        ],\n",
       "        \"Love love bade me welcome yet my my soul soul drew back guilty of dust and sin. But quickeyed love observing me grow slow from my my first number 1 entrance in drew nearer to me sweetly questioning if i lackd lackd anything.\": [\n",
       "          \"Love love bade me welcome yet my my my soul soul drew back guilty of dust and sin. But quickeyed love observing me grow slow from my my first number 1 entrance in in drew nearer to me sweetly questioning if i lackd lackd anything.\",\n",
       "          \"Love love bade me welcome yet my my my soul soul drew back guilty of dust and trespass. But quickeyed love observing observing me grow slow from my my first number 1 entrance in drew nearer to me sweetly questioning if i lackd lackd anything.\"\n",
       "        ]\n",
       "      }\n",
       "    },\n",
       "    \"Love bade me welcome yet my soulfulness drew back guilty guilty of dust and sin. But quickeyed love observing me grow slacke from my first entrance in drew nearer to me sweet questioning if i lackd lackd anything.\": {\n",
       "      \"Love bade me welcome yet my soulfulness drew back back guilty guilty of dust and sin. But quickeyed love observing me me grow slacke from my first entrance in drew nearer to me sweet questioning if i lackd lackd anything.\": {\n",
       "        \"Love bade me welcome yet my soulfulness drew back back guilty guilty of dust dust and sin. But quickeyed love observing me me grow grow slacke from my first entrance in drew nearer to me sweet questioning if i lackd lackd anything.\": [\n",
       "          \"Love bade me welcome welcome yet my soulfulness drew back back off guilty guilty of dust dust and sin. But quickeyed love observing observing me me grow grow slacke from my first entrance in drew nearer to maine sweet questioning if i lackd lackd anything.\",\n",
       "          \"Love bade me welcome yet my soulfulness drew back back guilty guilty of of dust dust and sin. But quickeyed love observing me me grow grow slacke from my first entrance in drew nearer to me sweet questioning if i lackd lackd lackd anything.\"\n",
       "        ],\n",
       "        \"Love love bade pine tree state welcome yet my soulfulness drew back back guilty guilty of dust and sin. But quickeyed love observing me me grow slacke from my first entrance in drew nearer nearer to me sweet questioning if i lackd lackd anything.\": [\n",
       "          \"Love love bade pine tree state welcome yet my soul drew back back guilty guilty guilty of dust and sin. But quickeyed love observing me me grow slacke slacke from my first entrance in drew nearer nearer to me sweet questioning if i lackd lackd anything.\",\n",
       "          \"Love be intimate bade pine shoetree state welcome yet yet my soulfulness drew back back guilty guilty of dust and sin. But quickeyed love observing me me grow slacke from my first entrance in drew nearer nearer to me sweet sweet questioning if i lackd lackd anything.\"\n",
       "        ]\n",
       "      },\n",
       "      \"Love bade me welcome yet my soulfulness drew back guilty guilty of dust and and sin. But quickeyed love observing me grow slacke from my first entrance in drew nearer nearer to me sweet inquiring if i lackd lackd anything.\": {\n",
       "        \"Love bade me welcome yet my soulfulness soulfulness drew back guilty guilty of dust and and transgress. But quickeyed love observing me me grow slacke from my first entrance in drew nigher nearer to me sweet inquiring if i lackd lackd anything.\": [\n",
       "          \"Love bade me welcome yet my soul soulfulness drew back guilty guilty guilty of dust and and transgress. But quickeyed love observing me me me grow slacke from my first entrance in drew nigher nearer to me sweet inquiring if i lackd lackd anything.\",\n",
       "          \"Love bade me welcome yet my soulfulness soulfulness drew back guilty guilty of dust and and and transgress. But quickeyed love observing me me grow slacke from my first entrance in drew nigher nearer nearer to me sweet inquiring if i lackd lackd anything.\",\n",
       "          \"Love bade me welcome yet my soulfulness soul drew back back guilty guilty of dust and and transgress. But but quickeyed love observing me me grow slacke from my first entrance in drew nigher nearer to me sweet inquiring if i lackd lackd anything.\"\n",
       "        ],\n",
       "        \"Love bade me welcome welcome yet my soulfulness drew back guilty guilty of dust and and transgress. But quickeyed love observing me grow  from my first entrance in drew nearer nearer to me sweet inquiring if i lackd lackd lackd anything.\": [\n",
       "          \"Love bade me welcome welcome yet my soul drew drew back guilty guilty of dust and and transgress. But quickeyed love observing me grow from my first entrance in drew nearer nearer to me sweet inquiring if i lackd lackd lackd anything.\",\n",
       "          \"Love love bade me welcome welcome yet my soulfulness drew back guilty guilty of dust and and transgress. But quickeyed love observing me grow from my first entrance in drew nearer nigher to maine sweet inquiring if if i lackd lackd lackd anything.\",\n",
       "          \"Love bade me welcome welcome welcome yet my soulfulness drew back guilty guilty of dust and and transgress. But quickeyed love observing me grow from my first entrance in drew nigher nearer to me sweet inquiring if i lackd lackd lackd anything.\"\n",
       "        ]\n",
       "      },\n",
       "      \"Love bade bade me receive yet my soulfulness drew back guilty guilty of dust and sin. But quickeyed love observing me grow slacke from my my first entrance in drew nearer to me sweet questioning if i lackd lackd anything.\": {\n",
       "        \"Love bade bade me receive receive yet my soulfulness drew back guilty guilty of dust and sin. But quickeyed love observing me grow slacke from my my first entrance in drew nearer to me me sweetness questioning if i lackd lackd anything.\": [\n",
       "          \"Love bade bade me receive receive yet my soulfulness drew back guilty guilty of dust and and sin. But quickeyed sleep with observant me grow slacke slacke from my my first entrance in drew nearer to me me sweetness questioning if i lackd lackd anything.\",\n",
       "          \"Love bade bade me receive receive yet my soulfulness drew back guilty guilty guilty of dust and sin. But quickeyed love observing pine tree state grow slacke from my my number one entrance in drew closer to me me sweetness questioning questioning if i lackd lackd anything.\"\n",
       "        ],\n",
       "        \"Love bade bade me receive yet my soulfulness drew back guilty guilty of dust dust and sin. But quickeyed love observing maine grow slacke from my my first entrance in in drew nearer to me sweet questioning if i lackd lackd anything.\": [\n",
       "          \"Love bade bade me receive so far my soulfulness soulfulness drew back guilty guilty of dust dust and sin. But quickeyed love observing maine grow slacke from my my first entrance in in drew nearer to me sweet questioning if i i lackd lackd anything.\",\n",
       "          \"Love bade bade me receive yet my soulfulness soulfulness drew back guilty guilty of dust dust and sin. But quickeyed love observing maine grow slacke from my my first entrance in in in drew nearer to me sweet questioning if i lackd lackd anything.\",\n",
       "          \"Love bade bade me receive receive yet my soulfulness drew back off guilty guilty of dust dust and sin. But quickeyed love observing maine grow slacke from my my first first entrance in in drew nearer to me sweet questioning if i lackd lackd anything.\"\n",
       "        ],\n",
       "        \"Bed bade bade me receive yet my soulfulness drew back back guilty guilty of dust and sin. But quickeyed love observing observing me grow slacke from my my first entrance in drew nearer to me sweet questioning if i lackd lackd anything.\": [\n",
       "          \"Bed bade bade me receive yet my soulfulness drew back back guilty guilty guilty of dust and sin. But quickeyed love observing observing me grow slacke from my my first entrance in drew nearer to me sweet questioning questioning if i lackd lackd anything.\",\n",
       "          \"Bed bade bade me receive yet my my soulfulness drew back back guilty guilty of dust and sin. But quickeyed love observing observing me grow slacke from my  first entrance in drew nearer to me sweet questioning questioning if one lackd lackd anyihing.\",\n",
       "          \"Bed bade bade me receive yet my soulfulness drew back back guilty guilty of dust dust and sin. But quickeyed love observing observing me grow slacke from my my my first entrance in drew nearer to me sweet questioning if i lackd lackd anything.\"\n",
       "        ]\n",
       "      }\n",
       "    }\n",
       "  }\n",
       "})"
      ]
     },
     "execution_count": 5,
     "metadata": {},
     "output_type": "execute_result"
    }
   ],
   "source": [
    "stemma.generate()"
   ]
  },
  {
   "cell_type": "markdown",
   "id": "8d82129c",
   "metadata": {},
   "source": [
    "Each text can be accessed through its lookup table, which can be used to get the tree stemma."
   ]
  },
  {
   "cell_type": "code",
   "execution_count": 6,
   "id": "3c80925d",
   "metadata": {},
   "outputs": [
    {
     "data": {
      "text/plain": [
       "{'0': \"LOVE bade me welcome; yet my soul drew back, Guilty of dust and sin. But quick-eyed Love, observing me grow slack, From my first entrance in, Drew nearer to me, sweetly questioning If I lack'd anything.\",\n",
       " '0:0': 'Love bade me welcome yet my my soul drew back guilty of dust and sin. But quickeyed love observing me grow slack from my my first entrance in drew nearer to me sweetly questioning if i lackd anything.',\n",
       " '0:1': 'Love bade me welcome yet my soulfulness drew back guilty guilty of dust and sin. But quickeyed love observing me grow slacke from my first entrance in drew nearer to me sweet questioning if i lackd lackd anything.',\n",
       " '0:0:0': 'Love bade me welcome yet my my my soul drew back shamed of dust and sin. But quickeyed love observing me grow slow down from from my my first entrance in drew nearer to me sweetly questioning if i lackd anything.',\n",
       " '0:0:1': 'Love bade me welcome yet my my soul drew back off back guilty of dust and sin. But quickeyed lsve observing me grow slack from my my first entrance in drew nearer to me sweetly questioning if i lackd anything.',\n",
       " '0:0:2': 'Love love bade me welcome yet my my soul drew back guilty of dust and sin. But quickeyed love observing me grow slow from my my first first entrance in drew nearer to me sweetly questioning if i lackd anything.',\n",
       " '0:1:0': 'Love bade me welcome yet my soulfulness drew back back guilty guilty of dust and sin. But quickeyed love observing me me grow slacke from my first entrance in drew nearer to me sweet questioning if i lackd lackd anything.',\n",
       " '0:1:1': 'Love bade me welcome yet my soulfulness drew back guilty guilty of dust and and sin. But quickeyed love observing me grow slacke from my first entrance in drew nearer nearer to me sweet inquiring if i lackd lackd anything.',\n",
       " '0:1:2': 'Love bade bade me receive yet my soulfulness drew back guilty guilty of dust and sin. But quickeyed love observing me grow slacke from my my first entrance in drew nearer to me sweet questioning if i lackd lackd anything.',\n",
       " '0:0:0:0': 'Love bade me welcome yet my soulfulness drew back back guilty guilty of dust dust and sin. But quickeyed love observing me me grow grow slacke from my first entrance in drew nearer to me sweet questioning if i lackd lackd anything.',\n",
       " '0:0:0:1': 'Love love bade pine tree state welcome yet my soulfulness drew back back guilty guilty of dust and sin. But quickeyed love observing me me grow slacke from my first entrance in drew nearer nearer to me sweet questioning if i lackd lackd anything.',\n",
       " '0:0:0:2': 'Love bade me welcome welcome yet my my my soul drew back shamed of dust and sin. But quickeyed quickeyed love observing me grow slow down from from my my first entrance in drew nearer to me sweetly questioning if i lackd anything.',\n",
       " '0:0:1:0': 'Love bade me welcome yet my soulfulness soulfulness drew back guilty guilty of dust and and transgress. But quickeyed love observing me me grow slacke from my first entrance in drew nigher nearer to me sweet inquiring if i lackd lackd anything.',\n",
       " '0:0:1:1': 'Love bade me welcome welcome yet my soulfulness drew back guilty guilty of dust and and transgress. But quickeyed love observing me grow  from my first entrance in drew nearer nearer to me sweet inquiring if i lackd lackd lackd anything.',\n",
       " '0:0:1:2': 'Love bade me welcome welcome yet my my soul drew back off back shamefaced of dust and sin. But quickeyed lsve observing maine grow slack from my my first entrance in drew nearer to me sweetly sweetly questioning if i lackd anything.',\n",
       " '0:0:2:0': 'Love bade bade me receive receive yet my soulfulness drew back guilty guilty of dust and sin. But quickeyed love observing me grow slacke from my my first entrance in drew nearer to me me sweetness questioning if i lackd lackd anything.',\n",
       " '0:0:2:1': 'Love bade bade me receive yet my soulfulness drew back guilty guilty of dust dust and sin. But quickeyed love observing maine grow slacke from my my first entrance in in drew nearer to me sweet questioning if i lackd lackd anything.',\n",
       " '0:0:2:2': 'Bed bade bade me receive yet my soulfulness drew back back guilty guilty of dust and sin. But quickeyed love observing observing me grow slacke from my my first entrance in drew nearer to me sweet questioning if i lackd lackd anything.',\n",
       " '0:0:1:0:0': 'Love bade bade me receive receive yet my soulfulness drew back guilty guilty of dust and and sin. But quickeyed sleep with observant me grow slacke slacke from my my first entrance in drew nearer to me me sweetness questioning if i lackd lackd anything.',\n",
       " '0:0:1:0:1': 'Love bade bade me receive receive yet my soulfulness drew back guilty guilty guilty of dust and sin. But quickeyed love observing pine tree state grow slacke from my my number one entrance in drew closer to me me sweetness questioning questioning if i lackd lackd anything.',\n",
       " '0:0:1:1:0': 'Love bade bade me receive so far my soulfulness soulfulness drew back guilty guilty of dust dust and sin. But quickeyed love observing maine grow slacke from my my first entrance in in drew nearer to me sweet questioning if i i lackd lackd anything.',\n",
       " '0:0:1:1:1': 'Love bade bade me receive yet my soulfulness soulfulness drew back guilty guilty of dust dust and sin. But quickeyed love observing maine grow slacke from my my first entrance in in in drew nearer to me sweet questioning if i lackd lackd anything.',\n",
       " '0:0:1:2:0': 'Bed bade bade me receive yet my soulfulness drew back back guilty guilty guilty of dust and sin. But quickeyed love observing observing me grow slacke from my my first entrance in drew nearer to me sweet questioning questioning if i lackd lackd anything.',\n",
       " '0:0:1:2:1': 'Bed bade bade me receive yet my my soulfulness drew back back guilty guilty of dust and sin. But quickeyed love observing observing me grow slacke from my  first entrance in drew nearer to me sweet questioning questioning if one lackd lackd anyihing.',\n",
       " '0:0:1:2:2': 'Bed bade bade me receive yet my soulfulness drew back back guilty guilty of dust dust and sin. But quickeyed love observing observing me grow slacke from my my my first entrance in drew nearer to me sweet questioning if i lackd lackd anything.',\n",
       " '0:0:1:1:2': 'Love bade bade me receive receive yet my soulfulness drew back off guilty guilty of dust dust and sin. But quickeyed love observing maine grow slacke from my my first first entrance in in drew nearer to me sweet questioning if i lackd lackd anything.',\n",
       " '0:0:1:0:2': 'Love bade me welcome yet my soulfulness soul drew back back guilty guilty of dust and and transgress. But but quickeyed love observing me me grow slacke from my first entrance in drew nigher nearer to me sweet inquiring if i lackd lackd anything.'}"
      ]
     },
     "execution_count": 6,
     "metadata": {},
     "output_type": "execute_result"
    }
   ],
   "source": [
    "stemma.texts_lookup"
   ]
  },
  {
   "cell_type": "markdown",
   "id": "e07960b4",
   "metadata": {},
   "source": [
    "It is also possible to access the edges describing only the manuscript names and their family relation."
   ]
  },
  {
   "cell_type": "code",
   "execution_count": 7,
   "id": "58334fa8",
   "metadata": {},
   "outputs": [
    {
     "data": {
      "text/plain": [
       "[('0', '0:0'),\n",
       " ('0', '0:1'),\n",
       " ('0:0', '0:0:0'),\n",
       " ('0:0', '0:0:1'),\n",
       " ('0:0', '0:0:2'),\n",
       " ('0:1', '0:1:0'),\n",
       " ('0:1', '0:1:1'),\n",
       " ('0:1', '0:1:2'),\n",
       " ('0:0:0', '0:0:0:0'),\n",
       " ('0:0:0', '0:0:0:1'),\n",
       " ('0:0:0', '0:0:0:2'),\n",
       " ('0:0:1', '0:0:1:0'),\n",
       " ('0:0:1', '0:0:1:1'),\n",
       " ('0:0:1', '0:0:1:2'),\n",
       " ('0:0:2', '0:0:2:0'),\n",
       " ('0:0:2', '0:0:2:1'),\n",
       " ('0:0:2', '0:0:2:2'),\n",
       " ('0:0:0', '0:0:0:0'),\n",
       " ('0:0:0', '0:0:0:1'),\n",
       " ('0:0:1', '0:0:1:0'),\n",
       " ('0:0:1', '0:0:1:1'),\n",
       " ('0:0:2', '0:0:2:0'),\n",
       " ('0:0:2', '0:0:2:1'),\n",
       " ('0:0:2', '0:0:2:2'),\n",
       " ('0:0:1:0', '0:0:1:0:0'),\n",
       " ('0:0:1:0', '0:0:1:0:1'),\n",
       " ('0:0:1:1', '0:0:1:1:0'),\n",
       " ('0:0:1:1', '0:0:1:1:1'),\n",
       " ('0:0:1:2', '0:0:1:2:0'),\n",
       " ('0:0:1:2', '0:0:1:2:1'),\n",
       " ('0:0:1:2', '0:0:1:2:2'),\n",
       " ('0:0:1:0', '0:0:1:0:0'),\n",
       " ('0:0:1:0', '0:0:1:0:1'),\n",
       " ('0:0:1:1', '0:0:1:1:0'),\n",
       " ('0:0:1:1', '0:0:1:1:1'),\n",
       " ('0:0:1:1', '0:0:1:1:2'),\n",
       " ('0:0:1:2', '0:0:1:2:0'),\n",
       " ('0:0:1:2', '0:0:1:2:1'),\n",
       " ('0:0:1:0', '0:0:1:0:0'),\n",
       " ('0:0:1:0', '0:0:1:0:1'),\n",
       " ('0:0:1:1', '0:0:1:1:0'),\n",
       " ('0:0:1:1', '0:0:1:1:1'),\n",
       " ('0:0:1:2', '0:0:1:2:0'),\n",
       " ('0:0:1:2', '0:0:1:2:1'),\n",
       " ('0:0:1:0', '0:0:1:0:0'),\n",
       " ('0:0:1:0', '0:0:1:0:1'),\n",
       " ('0:0:1:1', '0:0:1:1:0'),\n",
       " ('0:0:1:1', '0:0:1:1:1'),\n",
       " ('0:0:1:0', '0:0:1:0:0'),\n",
       " ('0:0:1:0', '0:0:1:0:1'),\n",
       " ('0:0:1:0', '0:0:1:0:2'),\n",
       " ('0:0:1:1', '0:0:1:1:0'),\n",
       " ('0:0:1:1', '0:0:1:1:1'),\n",
       " ('0:0:1:1', '0:0:1:1:2'),\n",
       " ('0:0:1:0', '0:0:1:0:0'),\n",
       " ('0:0:1:0', '0:0:1:0:1'),\n",
       " ('0:0:1:1', '0:0:1:1:0'),\n",
       " ('0:0:1:1', '0:0:1:1:1'),\n",
       " ('0:0:1:1', '0:0:1:1:2'),\n",
       " ('0:0:1:2', '0:0:1:2:0'),\n",
       " ('0:0:1:2', '0:0:1:2:1'),\n",
       " ('0:0:1:2', '0:0:1:2:2')]"
      ]
     },
     "execution_count": 7,
     "metadata": {},
     "output_type": "execute_result"
    }
   ],
   "source": [
    "stemma.edges"
   ]
  }
 ],
 "metadata": {
  "kernelspec": {
   "display_name": "Python 3 (ipykernel)",
   "language": "python",
   "name": "python3"
  },
  "language_info": {
   "codemirror_mode": {
    "name": "ipython",
    "version": 3
   },
   "file_extension": ".py",
   "mimetype": "text/x-python",
   "name": "python",
   "nbconvert_exporter": "python",
   "pygments_lexer": "ipython3",
   "version": "3.10.14"
  }
 },
 "nbformat": 4,
 "nbformat_minor": 5
}
