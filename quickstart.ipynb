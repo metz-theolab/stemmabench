{
 "cells": [
  {
   "cell_type": "markdown",
   "id": "7791ac88",
   "metadata": {},
   "source": [
    "# Quickstart in interactive mode"
   ]
  },
  {
   "cell_type": "markdown",
   "id": "d6f45336",
   "metadata": {},
   "source": [
    "There are two ways to use *stemmabench*. The first one consists in using it using the command line (please refer to the README). It is also possible to use `stemmabench` entirely in memory.\n",
    "\n",
    "To use Stemma Bench in interactive mode, you need to:\n",
    "- Import the stemmabench library\n",
    "- Define the wanted configuration"
   ]
  },
  {
   "cell_type": "code",
   "execution_count": 1,
   "id": "303ffee3",
   "metadata": {},
   "outputs": [
    {
     "data": {
      "text/plain": [
       "1"
      ]
     },
     "execution_count": 1,
     "metadata": {},
     "output_type": "execute_result"
    }
   ],
   "source": [
    "import sys\n",
    "from stemmabench.stemma_generator import Stemma\n",
    "from stemmabench.config_parser import StemmaBenchConfig\n",
    "from loguru import logger\n",
    "# Set logging level to info\n",
    "logger.remove()\n",
    "logger.add(sys.stderr, level=\"INFO\")"
   ]
  },
  {
   "cell_type": "code",
   "execution_count": 2,
   "id": "2d96529b",
   "metadata": {},
   "outputs": [],
   "source": [
    "config = StemmaBenchConfig(**{\n",
    "    \"meta\": {\n",
    "      \"language\": \"eng\"  \n",
    "    },\n",
    "    \"stemma\": {\n",
    "        \"depth\": 3,\n",
    "        \"width\": {\n",
    "            \"law\": \"Uniform\",\n",
    "            \"min\": 2,\n",
    "            \"max\": 4\n",
    "        }\n",
    "    },\n",
    "    \"variants\": {\n",
    "    \"sentences\": {\n",
    "        \"duplicate\": {\n",
    "                    \"args\": {\n",
    "                                \"nbr_words\": 1\n",
    "                            },\n",
    "                            \"law\": \"Bernouilli\",\n",
    "                            \"rate\": 1\n",
    "                        }\n",
    "    },\n",
    "        \"words\": {\n",
    "                    \"synonym\": {\n",
    "                        \"law\": \"Bernouilli\",\n",
    "                        \"rate\": 0.05,\n",
    "                        \"args\": {}\n",
    "                    },\n",
    "                    \"mispell\": {\n",
    "                        \"law\": \"Bernouilli\",\n",
    "                        \"rate\": 0.001,\n",
    "                        \"args\": {}\n",
    "                    },\n",
    "                    \"omit\": {\n",
    "                        \"law\": \"Bernouilli\",\n",
    "                        \"rate\": 0.001,\n",
    "                        \"args\": {}\n",
    "                    }\n",
    "             }\n",
    "             }\n",
    "})"
   ]
  },
  {
   "cell_type": "markdown",
   "id": "695b538e",
   "metadata": {},
   "source": [
    "You then need to select the original text you want to generate a tradition from."
   ]
  },
  {
   "cell_type": "code",
   "execution_count": 3,
   "id": "a5729689",
   "metadata": {},
   "outputs": [],
   "source": [
    "DEMO_TEXT = \"LOVE bade me welcome; yet my soul drew back, Guilty of dust and sin. But quick-eyed Love, observing me grow slack, From my first entrance in, Drew nearer to me, sweetly questioning If I lack'd anything.\""
   ]
  },
  {
   "cell_type": "markdown",
   "id": "460b1a5a",
   "metadata": {},
   "source": [
    "Create a stemma object:"
   ]
  },
  {
   "cell_type": "code",
   "execution_count": 4,
   "id": "6b082d9f",
   "metadata": {},
   "outputs": [],
   "source": [
    "stemma = Stemma(original_text=DEMO_TEXT, config=config)"
   ]
  },
  {
   "cell_type": "markdown",
   "id": "0cd7734c",
   "metadata": {},
   "source": [
    "And then generate a tradition !"
   ]
  },
  {
   "cell_type": "code",
   "execution_count": 5,
   "id": "04dd3fb5",
   "metadata": {},
   "outputs": [
    {
     "data": {
      "text/plain": [
       "Tree({\n",
       "  \"LOVE bade me welcome; yet my soul drew back, Guilty of dust and sin. But quick-eyed Love, observing me grow slack, From my first entrance in, Drew nearer to me, sweetly questioning If I lack'd anything.\": {\n",
       "    \"Love bade bade me welcome yet my soul drew back guilty of dust and sin. But quickeyed love observing me grow slack from my first entrance in in drew nearer to me sweetly questioning if i lackd anything.\": {\n",
       "      \"Love bade bade bade me welcome yet my soul drew back guilty of dust and trespass. But quickeyed love observing me grow slack from my first entrance in in drew drew nigher to me sweetly inquiring if i lackd anything.\": {\n",
       "        \"Love bade bade bade me me welcome yet my soul drew back guilty of dust and trespass. But quickeyed love observing me me grow slack from my first spellbind in in drew drew nigher to me sweetly inquiring if i lackd anything.\": [\n",
       "          \"Hump bade bade bade maine me welcome yet my soul soul drew back guilty of dust and trespass. But quickeyed love observing me me grow slack from my first spellbind in in drew drew nigher to me sweetly inquiring if i i lackd anything.\",\n",
       "          \"Love bade bade bade bade me me welcome yet my soul drew back guilty of dust and trespass. But quickeyed love observing me me grow slack from from my first spellbind in in drew drew nigher to me sweetly inquiring if i lackd anything.\",\n",
       "          \"Love bade bade bade maine me welcome yet my soul drew back guilty of dust and and trespass. But quickeyed lovh observing me me grow slack from from my number 1 spellbind in in drew drew nigher to me sweetly inquiring if i lackd anything.\"\n",
       "        ],\n",
       "        \"Love bade bade bade me welcome yet my soul drew back down guilty guilty of dust and trespass. But quickeyed love observing me grow slack from my first entrance in in drew drew nigher to me me sweetly inquiring if i lackd anything.\": [\n",
       "          \"Bon bade bade bade me welcome yet my soulfulness drew back down guilty guilty guilty of dust and trespass. But quickeyed love observing me grow slack from my first entrance in in drew drew nigher to me me sweetly inquiring if i lackd anything.\",\n",
       "          \"Love bade bade bade me welcome yet my soul drew back up down guilty guilty of of dust and trespass. But quickeyed love observing me grow slack from my first entrance in in drew drew nigher to to pine tree state me sweetly inquiring if i lackd anything.\",\n",
       "          \"Love bade bade bade me welcome yet my soul drew back down guilty guilty guilty of dust and trespass. But quickeyed love observing me grow slack from my first entrance in in drew drew drew nigher to me me sweetly inquiring if i lackd anything.\"\n",
       "        ],\n",
       "        \"Love bade bade bade bade me welcome yet my soul john drew back guilty of dust and trespass. But quickeyed love observing observing me grow slack from my first entrance in in drew drew nigher to me sweetly inquiring if i lackd anything.\": [\n",
       "          \"Love bade bade bade bade bade me welcome yet my soul john drew back guilty of dust and trespass. But quickeyed love observing observing observing me grow slack from my first entrance in atomic number 49 drew drew nigher to me sweetly inquiring if i lackd anything.\",\n",
       "          \"Love bade bade bade bade me welcome yet my soul john drew back guilty guilty of dust and trespass. But quickeyed love observing observing me grow slack from my first entrance in in drew drew nigher to me sweetly inquiring if i lackd anything.\"\n",
       "        ]\n",
       "      },\n",
       "      \"Love bade bade me welcome welcome yet my soul drew back guilty of dust and sin. But quickeyed love observing me grow slack from my first entrance in in drew nearer to me sweetly questioning questioning if i lackd anything.\": {\n",
       "        \"Love bade bade me receive welcome yet my soul drew back guilty guilty of dust and sin. But quickeyed love observing me grow slack from my first entrance in in drew nearer to me sweetly sweetly questioning questioning if i lackd anything.\": [\n",
       "          \"Love bade bade me receive receive welcome yet my soul drew back guilty guilty of dust and sin. Only quickeyed love observing maine grow slack from my first entrance in in drew nearer nearer to me sweetly sweetly questioning questioning if i lackd anything.\",\n",
       "          \"Love love bade bade me receive welcome yet my soul drew back guilty guilty of dust and sin. But quickeyed love observing me grow slack from my first entrance in in drew drew nearer to me sweetly sweetly questioning questioning if i lackd anything.\"\n",
       "        ],\n",
       "        \"Love bade bade bade me welcome welcome yet my soul drew back guilty of dust and sin. But quickeyed love observing me grow slack from my first entrance in in drew nearer to me sweetly questioning questioning if if i lackd anything.\": [\n",
       "          \"Love love bade bade bade me welcome welcome yet my soul drew back guilty of dust and transgress. But quickeyed love observing me grow slacke slow from my first entrance in in drew nearer to me sweetly questioning questioning if if i lackd anything.\",\n",
       "          \"Love bade bade bade maine receive welcome welcome yet my soul drew back guilty of dust and sin. But quickuyed love observing me grow slack from my first entrance in in drew nearer to me me sweetly questioning questioning if if i lackd anything.\"\n",
       "        ]\n",
       "      }\n",
       "    },\n",
       "    \"Love bade me welcome yet my soul drew back guilty of dust dust and sin. But quickeyed love observing me grow slack from my first entrance in drew nearer to me sweetly questioning if i i lackd anything.\": {\n",
       "      \"Love bade bade me welcome yet my soul drew back guilty of dust dust and sin. Just quickeyed love observing me grow slack from my first entrance in drew nearer to me sweetly questioning if i i lackd lackd anything.\": {\n",
       "        \"Love bade bade me welcome yet my soul drew drew back guilty of dust dust and sin. Just quickeyed love observing me grow slack from my first entrance in drew nearer to me sweetly questioning if i i lackd lackd anything.\": [\n",
       "          \"Love bade bade me welcome yet my soul drew drew back guilty of dust dust and and sin. Just quickeyed love observing me grow slack from my first entrance in in drew closer to me sweetly questioning if i i lackd lackd anything.\",\n",
       "          \"Love bade bade me welcome yet my soul drew drew back guilty of dust dust dust and sin. Just quickeyed love observing me grow slack from my first entrance in drew nearer to me sweetly questioning questioning if i i lackd lackd anything.\"\n",
       "        ],\n",
       "        \"Love bade bade me welcome yet my soul drew back guilty of dust dust dust and sin. Just quickeyed love observing me grow slack from my first spellbind in drew nearer to me sweetly questioning if i i lackd lackd lackd anything.\": [\n",
       "          \"Love bade bade me welcome yet so far my soul drew back off guilty of dust dust dust and sin. Just quickeyed love observing pine tree state turn slack from my first spellbind in drew nearer to me sweetly questioning if if i i lackd lackd lackd anything.\",\n",
       "          \"Love bade bade me welcome so far my soul drew back guilty of dust dust dust and and sin. Just quickeyed love observing me grow slack from my first spellbind in drew nearer to me sweetly questioning if single i i lackd lackd lackd anything.\",\n",
       "          \"Love bade bade me welcome welcome yet my soul drew back guilty of dust dust dust and sin. Just quickeyed love observing me grow slow down from my first magnetize in drew nearer to me sweetly questioning if i i lackd lackd lackd lackd anything.\"\n",
       "        ],\n",
       "        \"Love bade bade me welcome yet my soul drew back guilty of dust dust dust and sin. Just quickeyed love observing me me grow slack from my first entrance indium drew nearer to me sweetly questioning if i i lackd lackd anything.\": [\n",
       "          \"Love bade bade me welcome so far my soul drew back guilty guilty of dust dust dust and sin. Just quickeyed love observing me me turn grow slack from my first entrance indium drew nearer to me sweetly questioning if i i lackd lackd anything.\",\n",
       "          \"Love bade bade me welcome yet my soul drew back guilty of dust dust dust and and sin. Just quickeyed love observing me me turn grow slack from my first entrance indium drew nearer to me sweetly questioning if i i lackd lackd anything.\"\n",
       "        ]\n",
       "      },\n",
       "      \"Love love bade me welcome yet my soul drew back guilty of dust dust and sin. But quickeyed love observing me grow slack from from my first entrance in drew nearer to me sweetly questioning if i i lackd anything.\": {\n",
       "        \"Love love bade me welcome yet my my soul drew back guilty of dust dust and sin. But quickeyed love observing observing me grow slack from from my first entrance in drew nearer to me sweetly questioning if i i lackd anything.\": [\n",
       "          \"Love love bade me receive yet my my soul drew back guilty of of dust dust and sin. But quickeyed love observing observing me grow slack from from my first entrance in in drew nearer to me sweetly questioning if i i lackd anything.\",\n",
       "          \"Love love bade me welcome yet my my soulfulness drew back back guilty of dust dust and sin. But quickeyed love observing observing me grow slack from from my first entrance in drew nearer to me sweetly questioning if if i i lackd anything.\",\n",
       "          \"Love love bade me welcome yet my my my soul drew back guilty of dust dust and sin. But quickeyed love observing observing me grow slack from from my first entrance in drew nearer to me sweetly questioning if one i lackd anything.\"\n",
       "        ],\n",
       "        \"Love love bade me welcome yet my soul drew back back guilty of dust dust and sin. But quickeyed love observing me grow slack from from my first spellbind in drew nearer to me me sweetly questioning if i i lackd anything.\": [\n",
       "          \"Love love bade me welcome yet my soul drew back back guilty guilty of dust dust and sin. But quickeyed love observing me grow slack from from my number one spellbind in drew nearer to to me me sweetly questioning if i i lackd anything.\",\n",
       "          \"Love love bade me welcome yet my my soul drew back back guilty of dust dust and sin. But quickeyed love observing me me grow slack from from my first spellbind in drew nearer to me me sweetly questioning if one  lackd anything.\",\n",
       "          \"Love love bade me welcome yet my soul drew back back guilty guilty of dust dust and transgress. But quickeyed love observing me grow slack from from my first spellbind in drew nearer to to me pine tree state sweetly questioning if i i lackd anything.\"\n",
       "        ],\n",
       "        \"Love love bade me welcome yet my soul drew back guilty of dust dust dust and sin. But quickeyed quickeyed love observing me grow slack from from my first entrance in drew nearer to me sweetly questioning if  i lackd anything.\": [\n",
       "          \"Love love love bade me welcome yet my soul drew back guilty of dust dust dust and sin. But quickeyed quickeyed roll in the hay observing me grow slack from from my first entrance in drew nearer to me me sweet questioning if 1 lackd anything.\",\n",
       "          \"Love love bade me welcome yet my soul drew back up guilty of dust dust dust dust and sin. But quickeyed quickeyed love observing me grow slack from from my first entrance in drew nearer to maine sweetly questioning if if i lackd anything.\",\n",
       "          \"Love love bade me welcome yet my my soul drew back guilty of dust dust dust and sin. But quickeyed quickeyed love observing me grow grow slack from from my first entrance in drew nearer to me sweetly questioning if i lackd anything.\"\n",
       "        ]\n",
       "      },\n",
       "      \"Love bade me welcome yet my soul drew back down back guilty of dust dust and sin. But quickeyed love observing me grow slack from my first entrance entrance in drew nearer to me sweetly questioning if i i lackd anything.\": {\n",
       "        \"Love bade me welcome yet my soul drew back down back guilty of of dust dust and sin. But quickeyed love observing me grow slack from my first entrance entrance entrance in drew nearer to me sweetly questioning if i i lackd anything.\": [\n",
       "          \"Love love bade me welcome yet my soul drew back down back guilty of of dust dust and sin. But quickeyed love observing me grow slack from my first entrance entrance entrance in drew nearer to me sweetly questioning if i i lackd anything.\",\n",
       "          \"Love bade me welcome so far my soul drew back down back back guilty of of dust dust and sin. But quickeyed love observing me grow slack from my first entrance entrance entrance atomic number 49 drew nearer to me sweetly questioning if i i lackd anything.\",\n",
       "          \"Love bade me me welcome yet my soul drew back pour down back guilty of of dust dust and sin. But quickeyed love observing me grow slack from from my first entrance entrance entrance in drew nearer to me sweetly questioning if i i lackd anything.\"\n",
       "        ],\n",
       "        \"Love love bade me welcome yet my soul drew back down back guilty of dust dust and sin. But quickeyed love observing me turn slack from my first entrance entrance in drew nearer to me sweetly questioning if i i i lackd anything.\": [\n",
       "          \"Love love bade me welcome yet yet my soul john drew back down back guilty of dust dust and sin. But quickeyed love observing me turn slack from from my first spellbind spellbind in drew nearer to me sweetly questioning if i i i lackd anything.\",\n",
       "          \"Love love bade me welcome yet my soul drew back drink down back guilty of dust dust dust and sin. But quickeyed love observing me turn turn slack from my first entrance entrance in drew nearer to me sweetly questioning if i i i lackd anything.\",\n",
       "          \"Love love bade me welcome yet my soul drew back down back up back guilty of dust dust and sin. But quickeyed love observing me turn slack from my first entrance entrance in drew nearer to me sweetly questioning if i i i i lackd anything.\"\n",
       "        ],\n",
       "        \"Love bade me welcome yet my soul drew back down back guilty guilty of dust dust and sin. But quickeyed love observing me grow slow from my first entrance entrance in drew nearer to me me sweetly questioning if i i lackd anything.\": [\n",
       "          \"Love bade me welcome welcome yet my soul drew back down down back guilty guilty of dust dust and sin. But quickeyed love observing me grow slow slow from my first entrance entrance in drew nearer to me me sweetly questioning if i i lackd anything.\",\n",
       "          \"Love bade bade me receive yet my soul drew back down back guilty guilty of dust dust and sin. But quickeyed love observing me grow slow from my first first entrance entrance in drew neaxer to me me sweetly inquiring if i i lackd anything.\",\n",
       "          \"Love bade me welcome yet my soul drew back up down back guilty guilty of of dust dust and sin. But quickeyed love observing maine grow slow from my first entrance entrance in drew drew nearer to me me sweetly questioning if i i lackd anything.\"\n",
       "        ]\n",
       "      }\n",
       "    }\n",
       "  }\n",
       "})"
      ]
     },
     "execution_count": 5,
     "metadata": {},
     "output_type": "execute_result"
    }
   ],
   "source": [
    "stemma.generate()"
   ]
  },
  {
   "cell_type": "markdown",
   "id": "8d82129c",
   "metadata": {},
   "source": [
    "Each text can be accessed through its lookup table, which can be used to get the tree stemma."
   ]
  },
  {
   "cell_type": "code",
   "execution_count": 6,
   "id": "3c80925d",
   "metadata": {},
   "outputs": [
    {
     "data": {
      "text/plain": [
       "{'0': \"LOVE bade me welcome; yet my soul drew back, Guilty of dust and sin. But quick-eyed Love, observing me grow slack, From my first entrance in, Drew nearer to me, sweetly questioning If I lack'd anything.\",\n",
       " '0:0': 'Love bade bade me welcome yet my soul drew back guilty of dust and sin. But quickeyed love observing me grow slack from my first entrance in in drew nearer to me sweetly questioning if i lackd anything.',\n",
       " '0:1': 'Love bade me welcome yet my soul drew back guilty of dust dust and sin. But quickeyed love observing me grow slack from my first entrance in drew nearer to me sweetly questioning if i i lackd anything.',\n",
       " '0:0:0': 'Love bade bade bade me welcome yet my soul drew back guilty of dust and trespass. But quickeyed love observing me grow slack from my first entrance in in drew drew nigher to me sweetly inquiring if i lackd anything.',\n",
       " '0:0:1': 'Love bade bade me welcome welcome yet my soul drew back guilty of dust and sin. But quickeyed love observing me grow slack from my first entrance in in drew nearer to me sweetly questioning questioning if i lackd anything.',\n",
       " '0:1:0': 'Love bade bade me welcome yet my soul drew back guilty of dust dust and sin. Just quickeyed love observing me grow slack from my first entrance in drew nearer to me sweetly questioning if i i lackd lackd anything.',\n",
       " '0:1:1': 'Love love bade me welcome yet my soul drew back guilty of dust dust and sin. But quickeyed love observing me grow slack from from my first entrance in drew nearer to me sweetly questioning if i i lackd anything.',\n",
       " '0:1:2': 'Love bade me welcome yet my soul drew back down back guilty of dust dust and sin. But quickeyed love observing me grow slack from my first entrance entrance in drew nearer to me sweetly questioning if i i lackd anything.',\n",
       " '0:0:0:0': 'Love bade bade me welcome yet my soul drew drew back guilty of dust dust and sin. Just quickeyed love observing me grow slack from my first entrance in drew nearer to me sweetly questioning if i i lackd lackd anything.',\n",
       " '0:0:0:1': 'Love bade bade me welcome yet my soul drew back guilty of dust dust dust and sin. Just quickeyed love observing me grow slack from my first spellbind in drew nearer to me sweetly questioning if i i lackd lackd lackd anything.',\n",
       " '0:0:0:2': 'Love bade bade me welcome yet my soul drew back guilty of dust dust dust and sin. Just quickeyed love observing me me grow slack from my first entrance indium drew nearer to me sweetly questioning if i i lackd lackd anything.',\n",
       " '0:0:1:0': 'Love love bade me welcome yet my my soul drew back guilty of dust dust and sin. But quickeyed love observing observing me grow slack from from my first entrance in drew nearer to me sweetly questioning if i i lackd anything.',\n",
       " '0:0:1:1': 'Love love bade me welcome yet my soul drew back back guilty of dust dust and sin. But quickeyed love observing me grow slack from from my first spellbind in drew nearer to me me sweetly questioning if i i lackd anything.',\n",
       " '0:0:1:2': 'Love love bade me welcome yet my soul drew back guilty of dust dust dust and sin. But quickeyed quickeyed love observing me grow slack from from my first entrance in drew nearer to me sweetly questioning if  i lackd anything.',\n",
       " '0:0:2:0': 'Love bade me welcome yet my soul drew back down back guilty of of dust dust and sin. But quickeyed love observing me grow slack from my first entrance entrance entrance in drew nearer to me sweetly questioning if i i lackd anything.',\n",
       " '0:0:2:1': 'Love love bade me welcome yet my soul drew back down back guilty of dust dust and sin. But quickeyed love observing me turn slack from my first entrance entrance in drew nearer to me sweetly questioning if i i i lackd anything.',\n",
       " '0:0:2:2': 'Love bade me welcome yet my soul drew back down back guilty guilty of dust dust and sin. But quickeyed love observing me grow slow from my first entrance entrance in drew nearer to me me sweetly questioning if i i lackd anything.',\n",
       " '0:0:1:0:0': 'Love love bade me welcome yet my soul drew back down back guilty of of dust dust and sin. But quickeyed love observing me grow slack from my first entrance entrance entrance in drew nearer to me sweetly questioning if i i lackd anything.',\n",
       " '0:0:1:0:1': 'Love bade me welcome so far my soul drew back down back back guilty of of dust dust and sin. But quickeyed love observing me grow slack from my first entrance entrance entrance atomic number 49 drew nearer to me sweetly questioning if i i lackd anything.',\n",
       " '0:0:1:0:2': 'Love bade me me welcome yet my soul drew back pour down back guilty of of dust dust and sin. But quickeyed love observing me grow slack from from my first entrance entrance entrance in drew nearer to me sweetly questioning if i i lackd anything.',\n",
       " '0:0:1:1:0': 'Love love bade me welcome yet yet my soul john drew back down back guilty of dust dust and sin. But quickeyed love observing me turn slack from from my first spellbind spellbind in drew nearer to me sweetly questioning if i i i lackd anything.',\n",
       " '0:0:1:1:1': 'Love love bade me welcome yet my soul drew back drink down back guilty of dust dust dust and sin. But quickeyed love observing me turn turn slack from my first entrance entrance in drew nearer to me sweetly questioning if i i i lackd anything.',\n",
       " '0:0:1:1:2': 'Love love bade me welcome yet my soul drew back down back up back guilty of dust dust and sin. But quickeyed love observing me turn slack from my first entrance entrance in drew nearer to me sweetly questioning if i i i i lackd anything.',\n",
       " '0:0:1:2:0': 'Love bade me welcome welcome yet my soul drew back down down back guilty guilty of dust dust and sin. But quickeyed love observing me grow slow slow from my first entrance entrance in drew nearer to me me sweetly questioning if i i lackd anything.',\n",
       " '0:0:1:2:1': 'Love bade bade me receive yet my soul drew back down back guilty guilty of dust dust and sin. But quickeyed love observing me grow slow from my first first entrance entrance in drew neaxer to me me sweetly inquiring if i i lackd anything.',\n",
       " '0:0:1:2:2': 'Love bade me welcome yet my soul drew back up down back guilty guilty of of dust dust and sin. But quickeyed love observing maine grow slow from my first entrance entrance in drew drew nearer to me me sweetly questioning if i i lackd anything.'}"
      ]
     },
     "execution_count": 6,
     "metadata": {},
     "output_type": "execute_result"
    }
   ],
   "source": [
    "stemma.texts_lookup"
   ]
  },
  {
   "cell_type": "markdown",
   "id": "e07960b4",
   "metadata": {},
   "source": [
    "It is also possible to access the edges describing only the manuscript names and their family relation."
   ]
  },
  {
   "cell_type": "code",
   "execution_count": 7,
   "id": "58334fa8",
   "metadata": {},
   "outputs": [
    {
     "data": {
      "text/plain": [
       "[('0', '0:0'),\n",
       " ('0', '0:1'),\n",
       " ('0:0', '0:0:0'),\n",
       " ('0:0', '0:0:1'),\n",
       " ('0:1', '0:1:0'),\n",
       " ('0:1', '0:1:1'),\n",
       " ('0:1', '0:1:2'),\n",
       " ('0:0:0', '0:0:0:0'),\n",
       " ('0:0:0', '0:0:0:1'),\n",
       " ('0:0:0', '0:0:0:2'),\n",
       " ('0:0:1', '0:0:1:0'),\n",
       " ('0:0:1', '0:0:1:1'),\n",
       " ('0:0:0', '0:0:0:0'),\n",
       " ('0:0:0', '0:0:0:1'),\n",
       " ('0:0:0', '0:0:0:2'),\n",
       " ('0:0:1', '0:0:1:0'),\n",
       " ('0:0:1', '0:0:1:1'),\n",
       " ('0:0:1', '0:0:1:2'),\n",
       " ('0:0:2', '0:0:2:0'),\n",
       " ('0:0:2', '0:0:2:1'),\n",
       " ('0:0:2', '0:0:2:2'),\n",
       " ('0:0:1:0', '0:0:1:0:0'),\n",
       " ('0:0:1:0', '0:0:1:0:1'),\n",
       " ('0:0:1:0', '0:0:1:0:2'),\n",
       " ('0:0:1:1', '0:0:1:1:0'),\n",
       " ('0:0:1:1', '0:0:1:1:1'),\n",
       " ('0:0:1:1', '0:0:1:1:2'),\n",
       " ('0:0:1:2', '0:0:1:2:0'),\n",
       " ('0:0:1:2', '0:0:1:2:1'),\n",
       " ('0:0:1:0', '0:0:1:0:0'),\n",
       " ('0:0:1:0', '0:0:1:0:1'),\n",
       " ('0:0:1:1', '0:0:1:1:0'),\n",
       " ('0:0:1:1', '0:0:1:1:1'),\n",
       " ('0:0:1:0', '0:0:1:0:0'),\n",
       " ('0:0:1:0', '0:0:1:0:1'),\n",
       " ('0:0:1:1', '0:0:1:1:0'),\n",
       " ('0:0:1:1', '0:0:1:1:1'),\n",
       " ('0:0:1:1', '0:0:1:1:2'),\n",
       " ('0:0:1:2', '0:0:1:2:0'),\n",
       " ('0:0:1:2', '0:0:1:2:1'),\n",
       " ('0:0:1:0', '0:0:1:0:0'),\n",
       " ('0:0:1:0', '0:0:1:0:1'),\n",
       " ('0:0:1:0', '0:0:1:0:2'),\n",
       " ('0:0:1:1', '0:0:1:1:0'),\n",
       " ('0:0:1:1', '0:0:1:1:1'),\n",
       " ('0:0:1:1', '0:0:1:1:2'),\n",
       " ('0:0:1:2', '0:0:1:2:0'),\n",
       " ('0:0:1:2', '0:0:1:2:1'),\n",
       " ('0:0:1:2', '0:0:1:2:2'),\n",
       " ('0:0:1:0', '0:0:1:0:0'),\n",
       " ('0:0:1:0', '0:0:1:0:1'),\n",
       " ('0:0:1:0', '0:0:1:0:2'),\n",
       " ('0:0:1:1', '0:0:1:1:0'),\n",
       " ('0:0:1:1', '0:0:1:1:1'),\n",
       " ('0:0:1:1', '0:0:1:1:2'),\n",
       " ('0:0:1:2', '0:0:1:2:0'),\n",
       " ('0:0:1:2', '0:0:1:2:1'),\n",
       " ('0:0:1:2', '0:0:1:2:2')]"
      ]
     },
     "execution_count": 7,
     "metadata": {},
     "output_type": "execute_result"
    }
   ],
   "source": [
    "stemma.edges"
   ]
  }
 ],
 "metadata": {
  "kernelspec": {
   "display_name": "Python 3 (ipykernel)",
   "language": "python",
   "name": "python3"
  },
  "language_info": {
   "codemirror_mode": {
    "name": "ipython",
    "version": 3
   },
   "file_extension": ".py",
   "mimetype": "text/x-python",
   "name": "python",
   "nbconvert_exporter": "python",
   "pygments_lexer": "ipython3",
   "version": "3.9.6"
  }
 },
 "nbformat": 4,
 "nbformat_minor": 5
}
