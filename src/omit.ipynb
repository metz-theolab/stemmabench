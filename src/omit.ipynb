{
 "cells": [
  {
   "cell_type": "code",
   "execution_count": 2,
   "metadata": {},
   "outputs": [],
   "source": [
    "import numpy as np"
   ]
  },
  {
   "cell_type": "code",
   "execution_count": 83,
   "metadata": {},
   "outputs": [],
   "source": [
    "dict_test = {\n",
    "    \"global_rate\": 0.2,\n",
    "    \"specific_rate\": {\n",
    "        \"a_e\" : 0.7,\n",
    "        \"b_d\": 0.5,\n",
    "        \"a_z\": 0.3,\n",
    "        \"b_f\": 0.7\n",
    "    }\n",
    "}"
   ]
  },
  {
   "cell_type": "code",
   "execution_count": 99,
   "metadata": {},
   "outputs": [
    {
     "data": {
      "text/plain": [
       "{'a': {'e': 0.7, 'z': 0.3},\n",
       " 'e': {'a': 0.7},\n",
       " 'b': {'d': 0.5, 'f': 0.7},\n",
       " 'd': {'b': 0.5},\n",
       " 'z': {'a': 0.3},\n",
       " 'f': {'b': 0.7}}"
      ]
     },
     "execution_count": 99,
     "metadata": {},
     "output_type": "execute_result"
    }
   ],
   "source": [
    "def get_mapping(specific_rate: dict):\n",
    "        alpahbet_ref = \"abcdefghijklmnopqrstuvwxyz\"\n",
    "        mapping = {}\n",
    "        alpahbet = \"\"\n",
    "        for e in list(specific_rate.keys()):\n",
    "               alpahbet += e.replace(\"_\",\"\")\n",
    "        for lettre in alpahbet:\n",
    "                mapping[lettre] = {}\n",
    "        for key,valeur in specific_rate.items():\n",
    "            l,r = key.split(\"_\")\n",
    "            if (l not in alpahbet_ref) or (r not in alpahbet_ref):\n",
    "                raise ValueError(\"Lettres non reconnu dans l'alphabet de reference\")\n",
    "            mapping[l][r] = valeur\n",
    "            mapping[r][l] = valeur\n",
    "        return mapping\n",
    "\n",
    "test_map = get_mapping(dict_test[\"specific_rate\"])\n",
    "test_map"
   ]
  },
  {
   "cell_type": "code",
   "execution_count": 110,
   "metadata": {},
   "outputs": [
    {
     "data": {
      "text/plain": [
       "'z'"
      ]
     },
     "execution_count": 110,
     "metadata": {},
     "output_type": "execute_result"
    }
   ],
   "source": [
    "def get_letter(mapping: dict, letter: str):\n",
    "    \"\"\"Retunr a letter from the mapping dictionnary based on the letter given in argument.\"\"\"\n",
    "    return np.random.choice(list(mapping[letter].keys()),1,p=list(mapping[letter].values()))[0]\n",
    "\n",
    "get_letter(test_map,\"a\")"
   ]
  }
 ],
 "metadata": {
  "kernelspec": {
   "display_name": "venv.nosync",
   "language": "python",
   "name": "python3"
  },
  "language_info": {
   "codemirror_mode": {
    "name": "ipython",
    "version": 3
   },
   "file_extension": ".py",
   "mimetype": "text/x-python",
   "name": "python",
   "nbconvert_exporter": "python",
   "pygments_lexer": "ipython3",
   "version": "3.10.14"
  }
 },
 "nbformat": 4,
 "nbformat_minor": 2
}
